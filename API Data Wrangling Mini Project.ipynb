{
 "cells": [
  {
   "cell_type": "markdown",
   "metadata": {},
   "source": [
    "# API Data Wrangling Mini Project\n",
    "## Setup\n",
    "\n",
    "The API key used the access this project's data is loaded in from an external .env file."
   ]
  },
  {
   "cell_type": "code",
   "execution_count": 2,
   "metadata": {},
   "outputs": [],
   "source": [
    "import requests\n",
    "import os\n",
    "from dotenv import load_dotenv\n",
    "\n",
    "#Load the environment.\n",
    "project_folder = os.path.expanduser('~\\Desktop\\Springboard')\n",
    "load_dotenv(os.path.join(project_folder, '.env'))\n",
    "\n",
    "#Define constants.\n",
    "API_KEY = os.environ['API_KEY']\n",
    "URL = 'https://www.quandl.com/api/v3/datasets/FSE/AFX_X.json?api_key='"
   ]
  },
  {
   "cell_type": "markdown",
   "metadata": {},
   "source": [
    "## 1. Collect data from the Franfurt Stock Exchange, for the ticker AFX_X, for the whole year 2017 (keep in mind that the date format is YYYY-MM-DD).\n",
    "\n",
    "This section simply collects the requested data by adding API queries to the URL defined above. The JSON data is returned as a string."
   ]
  },
  {
   "cell_type": "code",
   "execution_count": 3,
   "metadata": {},
   "outputs": [],
   "source": [
    "start_date = '2017-01-01'\n",
    "end_date = '2017-12-31'\n",
    "\n",
    "#Request data from the Franfurt Stock Exchange for the whole year of 2017.\n",
    "r = requests.get(URL + API_KEY + \"&start_date=2017-01-01&end_date=2017-12-31\")\n",
    "json_string = r.json()"
   ]
  },
  {
   "cell_type": "markdown",
   "metadata": {},
   "source": [
    "## 2. Convert the returned JSON object into a Python dictionary.\n",
    "\n",
    "Technically, only the first two lines appear to be necessary to solve the problem as written. However, in order to more easily use the data, I went a little farther and made a dictionary keyed by the types of data collected on each trading day from the original dataset, which was keyed by trading days. It may be worth mentioning that the original \"json_dict\" also contained some metadata, which I don't believe this project required me to use, so I did not include it in the final dictionary."
   ]
  },
  {
   "cell_type": "code",
   "execution_count": 4,
   "metadata": {},
   "outputs": [],
   "source": [
    "#Unpack the JSON string to find the column names and data for this dataset.\n",
    "json_dict = dict(json_string)\n",
    "json_dict = json_dict['dataset']\n",
    "col_names = json_dict['column_names']\n",
    "data = json_dict['data']\n",
    "\n",
    "#Pivot the data, originally organized so that each row corresponds to  \n",
    "#the data for one trading day, into lists containing data \n",
    "#that correspond to the extracted column names.\n",
    "data = [[d[r] for d in data] for r in range(len(col_names))]\n",
    "\n",
    "#Use the column names as keys and the pivoted data as values to create a dictionary.\n",
    "data_dict = dict(zip(col_names, data))"
   ]
  },
  {
   "cell_type": "markdown",
   "metadata": {},
   "source": [
    "## 3. Calculate what the highest and lowest opening prices were for the stock in this period.\n",
    "\n",
    "The list of 'Open' values contains values of 'None' that must be dealt with before we can do anything else. The \"remove\" function doesn't seem to play well with None as an input, so these value sare converted into the average value of the other elements instead.\n",
    "\n",
    "Since this was only the first subset of data to be extracted, I assumed that dealing with None values would be a recurring problem and created a function to reference in the future. This turned out not to be the case, but I decided to keep the function anyway because I think the principle for choosing to write it was correct."
   ]
  },
  {
   "cell_type": "code",
   "execution_count": 5,
   "metadata": {},
   "outputs": [
    {
     "name": "stdout",
     "output_type": "stream",
     "text": [
      "53.11 34.0\n"
     ]
    }
   ],
   "source": [
    "#Add all numbers together (skipping None values), then divide by the list's length.\n",
    "def compute_average(input_list):\n",
    "    total = 0\n",
    "    for i in input_list:\n",
    "        if i is None:\n",
    "            continue\n",
    "        total += i\n",
    "    avg = total/len(input_list)\n",
    "    return round(avg, 2)\n",
    "\n",
    "#If the element is a list, leave it alone; otherwise, replace it with the computed average.\n",
    "def remove_nan_values(input_list):\n",
    "    avg = compute_average(input_list)\n",
    "    return [i if type(i) == float else avg for i in input_list]\n",
    "\n",
    "openings = data_dict['Open']\n",
    "openings = remove_nan_values(openings)\n",
    "\n",
    "#Identify and print the highest and lowest values in the list.\n",
    "max_opening = max(openings)\n",
    "min_opening = min(openings)\n",
    "print(max_opening, min_opening)"
   ]
  },
  {
   "cell_type": "markdown",
   "metadata": {},
   "source": [
    "The above cell should print 53.11 for the maximum opening and 34.0 for the minimum opening."
   ]
  },
  {
   "cell_type": "markdown",
   "metadata": {},
   "source": [
    "## 4. What was the largest change in any one day (based on High and Low price)?\n",
    "\n",
    "Since we are only using standard types in this project, a custom-built function for subtracting list values from each other will be helpful. In this project, we will always want the smaller number subtracted from the larger number because we are only interested in the magnitude of the differences, not the direction of the change (positive or negative)."
   ]
  },
  {
   "cell_type": "code",
   "execution_count": 6,
   "metadata": {},
   "outputs": [
    {
     "name": "stdout",
     "output_type": "stream",
     "text": [
      "2.81\n"
     ]
    }
   ],
   "source": [
    "#For each same-index pair, subtract the smaller number from the larger number\n",
    "#and return a list containing all the computed differences.\n",
    "def subtract_value_pairs(list1, list2):\n",
    "    return [abs(i - j) for i,j in zip(list1, list2)]\n",
    "\n",
    "highs = data_dict['High']\n",
    "lows = data_dict['Low']\n",
    "\n",
    "#Take the difference of each pair of values across the lists.\n",
    "differences = subtract_value_pairs(highs, lows)\n",
    "\n",
    "#Round to the hundredths place to keep the value consistent with the supplied data,\n",
    "# and print the value.\n",
    "max_dif = round(max(differences), 2)\n",
    "print(max_dif)"
   ]
  },
  {
   "cell_type": "markdown",
   "metadata": {},
   "source": [
    "The above cell should print 2.81."
   ]
  },
  {
   "cell_type": "markdown",
   "metadata": {},
   "source": [
    "## 5. What was the largest change between any two days (based on Closing Price)?\n",
    "\n",
    "For this section, I use the same \"subtract_value_pairs\" function defined above."
   ]
  },
  {
   "cell_type": "code",
   "execution_count": 7,
   "metadata": {},
   "outputs": [
    {
     "name": "stdout",
     "output_type": "stream",
     "text": [
      "1.69\n"
     ]
    }
   ],
   "source": [
    "closings = data_dict['Close']\n",
    "#Take the difference of each pair of values across the lists.\n",
    "differences = subtract_value_pairs(openings, closings)\n",
    "\n",
    "#Round to the hundredths place and print the value.\n",
    "max_closing_dif = round(max(differences), 2)\n",
    "print(max_closing_dif)"
   ]
  },
  {
   "cell_type": "markdown",
   "metadata": {},
   "source": [
    "The above cell should print 1.69."
   ]
  },
  {
   "cell_type": "markdown",
   "metadata": {},
   "source": [
    "## 6. What was the average daily trading volume during this year?\n",
    "\n",
    "The function for computing the average from a list of values was defined in the solution to problem 3."
   ]
  },
  {
   "cell_type": "code",
   "execution_count": 8,
   "metadata": {},
   "outputs": [
    {
     "name": "stdout",
     "output_type": "stream",
     "text": [
      "89124.34\n"
     ]
    }
   ],
   "source": [
    "volumes = data_dict['Traded Volume']\n",
    "\n",
    "#Compute and print the average of the values in the list.\n",
    "avg = compute_average(volumes)\n",
    "print(avg)"
   ]
  },
  {
   "cell_type": "markdown",
   "metadata": {},
   "source": [
    "The above cell should print 89124.34."
   ]
  },
  {
   "cell_type": "markdown",
   "metadata": {},
   "source": [
    "## 7. What was the median trading volume during this year?\n",
    "\n",
    "A new function is defined for computing the median."
   ]
  },
  {
   "cell_type": "code",
   "execution_count": 9,
   "metadata": {},
   "outputs": [
    {
     "name": "stdout",
     "output_type": "stream",
     "text": [
      "76286.0\n"
     ]
    }
   ],
   "source": [
    "#This computes the median from a given list of numbers.\n",
    "def compute_median(input_list):\n",
    "    sorted_list = sorted(input_list)\n",
    "    list_len = len(input_list)\n",
    "    #The index must be an int, so we use floored division to find the \"middle\" index.\n",
    "    index = (list_len - 1) // 2\n",
    "\n",
    "    #If the list length is an odd number \n",
    "    #(i.e. dividing by two returns remainder of 1), \n",
    "    #return the index computed above.\n",
    "    if (list_len % 2):\n",
    "        return sorted_list[index]\n",
    "    #Otherwise, take the average of the computed index and the next index.\n",
    "    else:\n",
    "        return (sorted_list[index] + sorted_list[index + 1])/2.0\n",
    "\n",
    "#Compute and print the median.\n",
    "med = compute_median(volumes)\n",
    "print(med)"
   ]
  },
  {
   "cell_type": "markdown",
   "metadata": {},
   "source": [
    "The above cell should print 76286.0."
   ]
  }
 ],
 "metadata": {
  "kernelspec": {
   "display_name": "Python 3",
   "language": "python",
   "name": "python3"
  },
  "language_info": {
   "codemirror_mode": {
    "name": "ipython",
    "version": 3
   },
   "file_extension": ".py",
   "mimetype": "text/x-python",
   "name": "python",
   "nbconvert_exporter": "python",
   "pygments_lexer": "ipython3",
   "version": "3.7.6"
  }
 },
 "nbformat": 4,
 "nbformat_minor": 4
}
