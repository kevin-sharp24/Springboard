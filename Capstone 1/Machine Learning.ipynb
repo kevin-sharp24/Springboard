{
 "cells": [
  {
   "cell_type": "code",
   "execution_count": 1,
   "metadata": {
    "scrolled": true
   },
   "outputs": [
    {
     "data": {
      "text/html": [
       "<div>\n",
       "<style scoped>\n",
       "    .dataframe tbody tr th:only-of-type {\n",
       "        vertical-align: middle;\n",
       "    }\n",
       "\n",
       "    .dataframe tbody tr th {\n",
       "        vertical-align: top;\n",
       "    }\n",
       "\n",
       "    .dataframe thead th {\n",
       "        text-align: right;\n",
       "    }\n",
       "</style>\n",
       "<table border=\"1\" class=\"dataframe\">\n",
       "  <thead>\n",
       "    <tr style=\"text-align: right;\">\n",
       "      <th></th>\n",
       "      <th>general_health</th>\n",
       "      <th>10yr_age_group</th>\n",
       "      <th>bmi_category</th>\n",
       "      <th>last_checkup</th>\n",
       "      <th>income</th>\n",
       "      <th>race</th>\n",
       "      <th>mscode</th>\n",
       "      <th>flushot</th>\n",
       "      <th>employed</th>\n",
       "      <th>sex</th>\n",
       "      <th>...</th>\n",
       "      <th>mental_health_days_per_month</th>\n",
       "      <th>kidney_disease</th>\n",
       "      <th>depressive_disorder</th>\n",
       "      <th>uses_medical_equipment</th>\n",
       "      <th>rent_or_own_home</th>\n",
       "      <th>any_exercise</th>\n",
       "      <th>blindness</th>\n",
       "      <th>trouble_concentrating</th>\n",
       "      <th>diabetes</th>\n",
       "      <th>smoker</th>\n",
       "    </tr>\n",
       "  </thead>\n",
       "  <tbody>\n",
       "    <tr>\n",
       "      <th>0</th>\n",
       "      <td>5.0</td>\n",
       "      <td>4</td>\n",
       "      <td>3.0</td>\n",
       "      <td>1.0</td>\n",
       "      <td>7.0</td>\n",
       "      <td>7.0</td>\n",
       "      <td>5.0</td>\n",
       "      <td>1.0</td>\n",
       "      <td>8.0</td>\n",
       "      <td>2</td>\n",
       "      <td>...</td>\n",
       "      <td>2</td>\n",
       "      <td>1.0</td>\n",
       "      <td>2.0</td>\n",
       "      <td>1.0</td>\n",
       "      <td>1.0</td>\n",
       "      <td>2.0</td>\n",
       "      <td>1.0</td>\n",
       "      <td>2.0</td>\n",
       "      <td>1.0</td>\n",
       "      <td>3.0</td>\n",
       "    </tr>\n",
       "    <tr>\n",
       "      <th>1</th>\n",
       "      <td>1.0</td>\n",
       "      <td>3</td>\n",
       "      <td>4.0</td>\n",
       "      <td>1.0</td>\n",
       "      <td>7.0</td>\n",
       "      <td>1.0</td>\n",
       "      <td>3.0</td>\n",
       "      <td>2.0</td>\n",
       "      <td>1.0</td>\n",
       "      <td>1</td>\n",
       "      <td>...</td>\n",
       "      <td>1</td>\n",
       "      <td>2.0</td>\n",
       "      <td>2.0</td>\n",
       "      <td>2.0</td>\n",
       "      <td>1.0</td>\n",
       "      <td>1.0</td>\n",
       "      <td>2.0</td>\n",
       "      <td>2.0</td>\n",
       "      <td>3.0</td>\n",
       "      <td>3.0</td>\n",
       "    </tr>\n",
       "    <tr>\n",
       "      <th>2</th>\n",
       "      <td>3.0</td>\n",
       "      <td>4</td>\n",
       "      <td>4.0</td>\n",
       "      <td>1.0</td>\n",
       "      <td>4.0</td>\n",
       "      <td>1.0</td>\n",
       "      <td>2.0</td>\n",
       "      <td>1.0</td>\n",
       "      <td>7.0</td>\n",
       "      <td>2</td>\n",
       "      <td>...</td>\n",
       "      <td>1</td>\n",
       "      <td>2.0</td>\n",
       "      <td>2.0</td>\n",
       "      <td>2.0</td>\n",
       "      <td>1.0</td>\n",
       "      <td>2.0</td>\n",
       "      <td>2.0</td>\n",
       "      <td>2.0</td>\n",
       "      <td>3.0</td>\n",
       "      <td>4.0</td>\n",
       "    </tr>\n",
       "    <tr>\n",
       "      <th>3</th>\n",
       "      <td>3.0</td>\n",
       "      <td>6</td>\n",
       "      <td>4.0</td>\n",
       "      <td>1.0</td>\n",
       "      <td>6.0</td>\n",
       "      <td>2.0</td>\n",
       "      <td>3.0</td>\n",
       "      <td>1.0</td>\n",
       "      <td>7.0</td>\n",
       "      <td>1</td>\n",
       "      <td>...</td>\n",
       "      <td>2</td>\n",
       "      <td>2.0</td>\n",
       "      <td>2.0</td>\n",
       "      <td>2.0</td>\n",
       "      <td>1.0</td>\n",
       "      <td>1.0</td>\n",
       "      <td>2.0</td>\n",
       "      <td>2.0</td>\n",
       "      <td>1.0</td>\n",
       "      <td>4.0</td>\n",
       "    </tr>\n",
       "    <tr>\n",
       "      <th>4</th>\n",
       "      <td>2.0</td>\n",
       "      <td>4</td>\n",
       "      <td>3.0</td>\n",
       "      <td>1.0</td>\n",
       "      <td>8.0</td>\n",
       "      <td>1.0</td>\n",
       "      <td>3.0</td>\n",
       "      <td>2.0</td>\n",
       "      <td>7.0</td>\n",
       "      <td>1</td>\n",
       "      <td>...</td>\n",
       "      <td>1</td>\n",
       "      <td>2.0</td>\n",
       "      <td>2.0</td>\n",
       "      <td>2.0</td>\n",
       "      <td>1.0</td>\n",
       "      <td>1.0</td>\n",
       "      <td>2.0</td>\n",
       "      <td>2.0</td>\n",
       "      <td>3.0</td>\n",
       "      <td>3.0</td>\n",
       "    </tr>\n",
       "  </tbody>\n",
       "</table>\n",
       "<p>5 rows × 25 columns</p>\n",
       "</div>"
      ],
      "text/plain": [
       "   general_health  10yr_age_group  bmi_category  last_checkup  income  race  \\\n",
       "0             5.0               4           3.0           1.0     7.0   7.0   \n",
       "1             1.0               3           4.0           1.0     7.0   1.0   \n",
       "2             3.0               4           4.0           1.0     4.0   1.0   \n",
       "3             3.0               6           4.0           1.0     6.0   2.0   \n",
       "4             2.0               4           3.0           1.0     8.0   1.0   \n",
       "\n",
       "   mscode  flushot  employed  sex  ...  mental_health_days_per_month  \\\n",
       "0     5.0      1.0       8.0    2  ...                             2   \n",
       "1     3.0      2.0       1.0    1  ...                             1   \n",
       "2     2.0      1.0       7.0    2  ...                             1   \n",
       "3     3.0      1.0       7.0    1  ...                             2   \n",
       "4     3.0      2.0       7.0    1  ...                             1   \n",
       "\n",
       "   kidney_disease  depressive_disorder  uses_medical_equipment  \\\n",
       "0             1.0                  2.0                     1.0   \n",
       "1             2.0                  2.0                     2.0   \n",
       "2             2.0                  2.0                     2.0   \n",
       "3             2.0                  2.0                     2.0   \n",
       "4             2.0                  2.0                     2.0   \n",
       "\n",
       "   rent_or_own_home  any_exercise  blindness  trouble_concentrating  diabetes  \\\n",
       "0               1.0           2.0        1.0                    2.0       1.0   \n",
       "1               1.0           1.0        2.0                    2.0       3.0   \n",
       "2               1.0           2.0        2.0                    2.0       3.0   \n",
       "3               1.0           1.0        2.0                    2.0       1.0   \n",
       "4               1.0           1.0        2.0                    2.0       3.0   \n",
       "\n",
       "   smoker  \n",
       "0     3.0  \n",
       "1     3.0  \n",
       "2     4.0  \n",
       "3     4.0  \n",
       "4     3.0  \n",
       "\n",
       "[5 rows x 25 columns]"
      ]
     },
     "execution_count": 1,
     "metadata": {},
     "output_type": "execute_result"
    }
   ],
   "source": [
    "# import libraries\n",
    "from sklearn.linear_model import LogisticRegression\n",
    "\n",
    "import matplotlib.pyplot as plt\n",
    "import seaborn as sns\n",
    "\n",
    "import pandas as pd\n",
    "import numpy as np\n",
    "\n",
    "# read in data\n",
    "df_diabetes = pd.read_csv('C:\\\\Users\\\\Kevin Sharp\\\\Desktop\\\\Springboard\\\\2014_BRFSS_encoded.csv')\n",
    "df_diabetes.head()"
   ]
  },
  {
   "cell_type": "markdown",
   "metadata": {},
   "source": [
    "For this project, I will be build logistic regression model to predict the risk of diabetes in responants to the 2014 BRFSS. Those with diabetes make up a minority of both the general population and the sample data, which will affect how I approach contructing the model."
   ]
  },
  {
   "cell_type": "code",
   "execution_count": 2,
   "metadata": {},
   "outputs": [
    {
     "data": {
      "text/plain": [
       "0.0    0.844994\n",
       "1.0    0.155006\n",
       "Name: diabetes, dtype: float64"
      ]
     },
     "execution_count": 2,
     "metadata": {},
     "output_type": "execute_result"
    }
   ],
   "source": [
    "#\"no\" response was encoded as 3; change these to 0 for clarity\n",
    "df_diabetes.loc[(df_diabetes['diabetes'] == 3), 'diabetes'] = 0\n",
    "\n",
    "#verify unbalanced nature of the data\n",
    "df_diabetes['diabetes'].value_counts()/df_diabetes.shape[0]"
   ]
  },
  {
   "cell_type": "markdown",
   "metadata": {},
   "source": [
    "First, we split the data into training and testing sets. I use the default 25/75 ratio of training data to testing data."
   ]
  },
  {
   "cell_type": "code",
   "execution_count": 3,
   "metadata": {},
   "outputs": [],
   "source": [
    "#create train-test split\n",
    "from sklearn.model_selection import train_test_split\n",
    "\n",
    "X = df_diabetes.drop('diabetes', axis=1)\n",
    "y = df_diabetes['diabetes']\n",
    "\n",
    "X_train, X_test, y_train, y_test = train_test_split(X, y, stratify=y)"
   ]
  },
  {
   "cell_type": "code",
   "execution_count": 4,
   "metadata": {},
   "outputs": [],
   "source": [
    "from sklearn.metrics import confusion_matrix, classification_report\n",
    "from sklearn.model_selection import cross_val_score\n",
    "\n",
    "def compute_model_performance(clf, scoring='roc_auc'):\n",
    "    y_pred = clf.predict(X_test)\n",
    "    print(f'roc_auc score: {np.mean(cross_val_score(clf, X_train, y_train, scoring=scoring, cv=5))}')\n",
    "    print(confusion_matrix(y_test, y_pred))\n",
    "    print(classification_report(y_test, y_pred))"
   ]
  },
  {
   "cell_type": "markdown",
   "metadata": {},
   "source": [
    "Initially, I use a basic logistic regression model with no additional parameters to use as a control for the tuning I expect to perform at a later step. As a reminder, 0 indicates a diabetes negative response, while 1 indicates a diabetes positive response."
   ]
  },
  {
   "cell_type": "code",
   "execution_count": 5,
   "metadata": {},
   "outputs": [
    {
     "name": "stdout",
     "output_type": "stream",
     "text": [
      "roc_auc score: 0.8011254254137936\n",
      "[[28715   705]\n",
      " [ 4557   840]]\n",
      "              precision    recall  f1-score   support\n",
      "\n",
      "         0.0       0.86      0.98      0.92     29420\n",
      "         1.0       0.54      0.16      0.24      5397\n",
      "\n",
      "    accuracy                           0.85     34817\n",
      "   macro avg       0.70      0.57      0.58     34817\n",
      "weighted avg       0.81      0.85      0.81     34817\n",
      "\n"
     ]
    }
   ],
   "source": [
    "#establishing baseline naive model to use as a control for further tuning\n",
    "\n",
    "clf = LogisticRegression(max_iter=1000)\n",
    "clf.fit(X_train, y_train)\n",
    "\n",
    "compute_model_performance(clf)"
   ]
  },
  {
   "cell_type": "markdown",
   "metadata": {},
   "source": [
    "The printed table of metrics shows us the effect of modeling unbalanced data. Although the model's accuracy is a fine 85%, we find a recall of only 16% for those with diabetes; in other words, the remaining 84% of those with diabetes were reported as false negatives by the model. Since we are primarily interested in identifying those with diabetes, I will retune the model to assign class weights proportional to their frequency in the data."
   ]
  },
  {
   "cell_type": "code",
   "execution_count": 6,
   "metadata": {},
   "outputs": [
    {
     "name": "stdout",
     "output_type": "stream",
     "text": [
      "roc_auc score: 0.8013906212426782\n",
      "[[20819  8601]\n",
      " [ 1464  3933]]\n",
      "              precision    recall  f1-score   support\n",
      "\n",
      "         0.0       0.93      0.71      0.81     29420\n",
      "         1.0       0.31      0.73      0.44      5397\n",
      "\n",
      "    accuracy                           0.71     34817\n",
      "   macro avg       0.62      0.72      0.62     34817\n",
      "weighted avg       0.84      0.71      0.75     34817\n",
      "\n"
     ]
    }
   ],
   "source": [
    "clf = LogisticRegression(max_iter=1000, class_weight='balanced')\n",
    "clf.fit(X_train, y_train)\n",
    "\n",
    "compute_model_performance(clf)"
   ]
  },
  {
   "cell_type": "markdown",
   "metadata": {},
   "source": [
    "Already, we see a marked improvement in the rate of recall, and the ROC AUC score remains about the same at roughly 0.80. Accuracy drops to 71%, but since the model is now more consistently identifying true positives, I consider this a net improvement. I will next attempt to tune the model further by adjusting the regularization parameter $C$. I also provide a range of possible weights to allow the model more flexibility."
   ]
  },
  {
   "cell_type": "code",
   "execution_count": 7,
   "metadata": {},
   "outputs": [],
   "source": [
    "#create hyperparameter grid for grid search CV \n",
    "from sklearn.model_selection import GridSearchCV\n",
    "\n",
    "Cs = [0.001, 0.1, 1, 10, 100]\n",
    "Ws = [{1:84.4994, 0:15.5006}, {1:84, 0:16}, {1:80, 0:20}, {1:75, 0:25}]\n",
    "hyperparam_grid = {\"C\":Cs, \"class_weight\":Ws}"
   ]
  },
  {
   "cell_type": "code",
   "execution_count": 8,
   "metadata": {},
   "outputs": [
    {
     "name": "stdout",
     "output_type": "stream",
     "text": [
      "best score: 0.8014044223990806\n",
      "best parameters: {'C': 100, 'class_weight': {1: 80, 0: 20}}\n"
     ]
    }
   ],
   "source": [
    "clf = LogisticRegression(max_iter=1000)\n",
    "\n",
    "grid = GridSearchCV(clf, hyperparam_grid, scoring='roc_auc')\n",
    "grid.fit(X_train, y_train)\n",
    "print(f'best score: {grid.best_score_}\\nbest parameters: {grid.best_params_}')"
   ]
  },
  {
   "cell_type": "code",
   "execution_count": 9,
   "metadata": {},
   "outputs": [
    {
     "name": "stdout",
     "output_type": "stream",
     "text": [
      "roc_auc score: 0.8014033831450217\n",
      "[[23083  6337]\n",
      " [ 2014  3383]]\n",
      "              precision    recall  f1-score   support\n",
      "\n",
      "         0.0       0.92      0.78      0.85     29420\n",
      "         1.0       0.35      0.63      0.45      5397\n",
      "\n",
      "    accuracy                           0.76     34817\n",
      "   macro avg       0.63      0.71      0.65     34817\n",
      "weighted avg       0.83      0.76      0.78     34817\n",
      "\n"
     ]
    }
   ],
   "source": [
    "C = grid.best_params_['C']\n",
    "class_weight = grid.best_params_['class_weight']\n",
    "\n",
    "clf = LogisticRegression(max_iter=1000, class_weight=class_weight)\n",
    "clf.fit(X_train, y_train)\n",
    "compute_model_performance(clf)"
   ]
  },
  {
   "cell_type": "markdown",
   "metadata": {},
   "source": [
    "This updated model uses a value of 0.1 for $C$ instead of the default 1 and adjusts the class weights a bit. Once again, the ROC AUC score is just over 0.80, and accuracy is increased from 72% to 76% without negatively affecting other scores too much. I believe this version of the model is sufficent to move forward with a final analysis of the predictor variables."
   ]
  },
  {
   "cell_type": "code",
   "execution_count": 10,
   "metadata": {},
   "outputs": [],
   "source": [
    "df_coef = pd.DataFrame()\n",
    "df_coef['coefficients'] = clf.coef_[0]\n",
    "df_coef['features'] = X.columns\n",
    "df_coef = df_coef.loc[df_coef['coefficients'].abs().argsort()]"
   ]
  },
  {
   "cell_type": "code",
   "execution_count": 11,
   "metadata": {},
   "outputs": [
    {
     "data": {
      "image/png": "[encoded data removed]",
      "text/plain": [
       "<Figure size 1440x720 with 1 Axes>"
      ]
     },
     "metadata": {
      "needs_background": "light"
     },
     "output_type": "display_data"
    }
   ],
   "source": [
    "fig = plt.figure(figsize=(20,10))\n",
    "\n",
    "plt.bar(df_coef['features'], df_coef['coefficients'])\n",
    "plt.xticks(rotation=90, fontsize=16)\n",
    "plt.title(\"Coefficients of the Logistic Regression Model\", fontsize=24)\n",
    "plt.xlabel(\"features\", fontsize=20)\n",
    "plt.ylabel(\"coefficient value\", fontsize=16)\n",
    "plt.show()"
   ]
  },
  {
   "cell_type": "markdown",
   "metadata": {},
   "source": [
    "Conclusions\n",
    "---\n",
    "\n",
    "As a reminder, the model itself does not establish the direction of causality between the predictors and the incidence of diabetes; conclusions about causality are derived from general medical knowledge about the causes and outcomes associated with diabetes.\n",
    "\n",
    "Based on the results from the final version of thge model, the five strongest predictors for diabetes are `bmi_category`, `kidney_disease`, `general_health`, `last_checkup`, and `angina_coronary_heart_disease`. Predictably, as a person's weight increases and their general health worsens, do does their risk of diabetes. Kidney disease, angina, and coronary heart disease in general are negative health outcomes shown to be strong predictors of a prior onset of diabetes. Finally, as discussed in the section on exploratory data analysis, those with diabetes are perhaps more likely to vist their doctor frequently in order to monitor their condition."
   ]
  }
 ],
 "metadata": {
  "kernelspec": {
   "display_name": "Python 3",
   "language": "python",
   "name": "python3"
  },
  "language_info": {
   "codemirror_mode": {
    "name": "ipython",
    "version": 3
   },
   "file_extension": ".py",
   "mimetype": "text/x-python",
   "name": "python",
   "nbconvert_exporter": "python",
   "pygments_lexer": "ipython3",
   "version": "3.7.6"
  }
 },
 "nbformat": 4,
 "nbformat_minor": 4
}
